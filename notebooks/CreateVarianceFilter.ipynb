{
    "cells": [
        {
            "cell_type": "code",
            "execution_count": null,
            "metadata": {
                "azdata_cell_guid": "c3d05f7d-fb65-4e9f-a566-814f74338ed5",
                "language": "python"
            },
            "outputs": [],
            "source": [
                "import pandas as pd\n",
                "import math\n",
                "from pandas import DataFrame\n",
                "import numpy as np\n",
                "import matplotlib.pyplot as plt\n",
                "from sklearn.feature_selection import VarianceThreshold, mutual_info_classif\n",
                "from datetime import datetime, timedelta, timezone\n",
                "import pyodbc\n",
                "from sqlalchemy import Column, Date, Integer, String, Numeric, create_engine, Float, inspect, func, MetaData, Table, select, ForeignKey\n",
                "from sqlalchemy.ext.declarative import declarative_base\n",
                "from sqlalchemy.orm import mapper, registry, Session, relationship\n",
                "from sqlalchemy.ext.automap import automap_base\n",
                "from sklearn.tree import DecisionTreeClassifier\n",
                "from sklearn.metrics import f1_score, precision_score, recall_score, mean_squared_error, balanced_accuracy_score \n",
                "from sklearn.model_selection import GridSearchCV\n",
                "from sklearn.linear_model import LogisticRegression\n",
                "from sklearn.preprocessing import LabelEncoder\n",
                "from sklearn.base import BaseEstimator\n",
                "from sklearn.pipeline import Pipeline\n",
                "import scipy\n",
                "from hyperopt import fmin, tpe, hp, STATUS_OK, Trials"
            ]
        },
        {
            "cell_type": "code",
            "execution_count": null,
            "metadata": {
                "azdata_cell_guid": "531a76dc-cb5a-4556-95e6-f783ece904b2",
                "language": "python"
            },
            "outputs": [],
            "source": [
                "#SQLAlchemy Setup\n",
                "def get_engine():\n",
                "    SERVER = 'localhost'\n",
                "    DATABASE = 'metmast'\n",
                "    engine = create_engine(f'mssql+pyodbc:///?odbc_connect=DRIVER={{ODBC Driver 18 for SQL Server}};SERVER={SERVER};DATABASE={DATABASE};Trusted_Connection=yes;TrustServerCertificate=yes;')\n",
                "    return engine\n",
                "\n",
                "engine = get_engine()\n",
                "metadata = MetaData()\n",
                "metadata.reflect(bind=engine)\n",
                "Base = automap_base(metadata=metadata)\n",
                "Base.prepare(autoload_with=engine)\n",
                "mapper_registry = registry()"
            ]
        },
        {
            "cell_type": "code",
            "execution_count": null,
            "metadata": {},
            "outputs": [],
            "source": [
                "datapoints = pd.read_sql_table(\"datapoint\", engine)\n",
                "feature_values_int = pd.read_sql_table(\"datapoint_feature_value_int\", engine)\n",
                "feature_values_float = pd.read_sql_table(\"datapoint_feature_value_float\", engine)\n",
                "features = pd.read_sql_table(\"feature\", engine)"
            ]
        },
        {
            "cell_type": "code",
            "execution_count": null,
            "metadata": {},
            "outputs": [],
            "source": [
                "features = features[\"type_\"]==\"data\"\n"
            ]
        },
        {
            "cell_type": "code",
            "execution_count": null,
            "metadata": {},
            "outputs": [],
            "source": [
                "train_X = loadData(\"train_data\")\n",
                "train_y = loadData(\"train_data_label\").drop(columns=[\"train_data_id\", \"Class\"]) \n",
                "test_X = loadData(\"test_data\")\n",
                "test_y = loadData(\"test_data_label\").drop(columns=[\"test_data_id\", \"Class\"]) "
            ]
        }
    ],
    "metadata": {
        "kernelspec": {
            "display_name": "Python 3",
            "language": "python",
            "name": "python3"
        },
        "language_info": {
            "codemirror_mode": {
                "name": "ipython",
                "version": 3
            },
            "file_extension": ".py",
            "mimetype": "text/x-python",
            "name": "python",
            "nbconvert_exporter": "python",
            "pygments_lexer": "ipython3",
            "version": "3.10.11"
        }
    },
    "nbformat": 4,
    "nbformat_minor": 2
}
