{
    "cells": [
        {
            "cell_type": "code",
            "execution_count": null,
            "metadata": {
                "azdata_cell_guid": "c3d05f7d-fb65-4e9f-a566-814f74338ed5",
                "language": "python"
            },
            "outputs": [],
            "source": [
                "import numpy as np\n",
                "import pandas as pd\n",
                "from sqlalchemy import MetaData, select\n",
                "from sqlalchemy.ext.automap import automap_base\n",
                "from sqlalchemy.orm import Session, registry\n",
                "\n",
                "from utils.create_object import create_object\n",
                "\n",
                "from utils.handle_engine import get_engine"
            ]
        },
        {
            "cell_type": "code",
            "execution_count": null,
            "metadata": {
                "azdata_cell_guid": "531a76dc-cb5a-4556-95e6-f783ece904b2",
                "language": "python"
            },
            "outputs": [],
            "source": [
                "engine = get_engine()\n",
                "metadata = MetaData()\n",
                "metadata.reflect(bind=engine)\n",
                "Base = automap_base(metadata=metadata)\n",
                "Base.prepare(autoload_with=engine)\n",
                "mapper_registry = registry()"
            ]
        },
        {
            "cell_type": "code",
            "execution_count": null,
            "metadata": {},
            "outputs": [],
            "source": [
                "metadata.tables[\"feature\"]"
            ]
        },
        {
            "cell_type": "code",
            "execution_count": null,
            "metadata": {},
            "outputs": [],
            "source": [
                "# Access the tables\n",
                "datapoint = metadata.tables['datapoint']\n",
                "datapoint_feature_value = metadata.tables['datapoint_feature_value']\n",
                "feature = metadata.tables['feature']\n",
                "datapoint_mappings = metadata.tables['datapoint_mappings']"
            ]
        },
        {
            "cell_type": "code",
            "execution_count": null,
            "metadata": {},
            "outputs": [],
            "source": [
                "# Construct the SQL query for the training set\n",
                "query_train = select(\n",
                "    datapoint.c.id.label('datapoint_id'),\n",
                "    feature.c.name.label('feature_name'),\n",
                "    datapoint_feature_value.c.value.label('feature_value')\n",
                ").select_from(\n",
                "    datapoint.join(datapoint_feature_value, datapoint.c.id == datapoint_feature_value.c.datapoint_id)\n",
                "    .join(feature, feature.c.id == datapoint_feature_value.c.feature_id)\n",
                "    .join(datapoint_mappings, datapoint.c.datapoint_mappings_id == datapoint_mappings.c.id)\n",
                ").where(\n",
                "    datapoint_mappings.c.grouping == 'train'\n",
                ")\n",
                "\n",
                "# Construct the SQL query for the test set\n",
                "query_test = select(\n",
                "    datapoint.c.id.label('datapoint_id'),\n",
                "    feature.c.name.label('feature_name'),\n",
                "    datapoint_feature_value.c.value.label('feature_value')\n",
                ").select_from(\n",
                "    datapoint.join(datapoint_feature_value, datapoint.c.id == datapoint_feature_value.c.datapoint_id)\n",
                "    .join(feature, feature.c.id == datapoint_feature_value.c.feature_id)\n",
                "    .join(datapoint_mappings, datapoint.c.datapoint_mappings_id == datapoint_mappings.c.id)\n",
                ").where(\n",
                "    datapoint_mappings.c.grouping == 'test'\n",
                ")"
            ]
        },
        {
            "cell_type": "code",
            "execution_count": null,
            "metadata": {},
            "outputs": [],
            "source": [
                "# Execute the queries and load into DataFrames\n",
                "df_train = pd.read_sql_query(query_train, engine)\n",
                "df_test = pd.read_sql_query(query_test, engine)\n",
                "\n",
                "# Pivot tables to get features as columns, for both train and test\n",
                "pivot_train = df_train.pivot_table(index='datapoint_id', columns='feature_name', values='feature_value').reset_index()\n",
                "pivot_test = df_test.pivot_table(index='datapoint_id', columns='feature_name', values='feature_value').reset_index()"
            ]
        },
        {
            "cell_type": "code",
            "execution_count": null,
            "metadata": {},
            "outputs": [],
            "source": [
                "pivot_test.columns"
            ]
        },
        {
            "cell_type": "code",
            "execution_count": null,
            "metadata": {},
            "outputs": [],
            "source": [
                "# Assuming engine, Base, and other necessary imports are already defined\n",
                "\n",
                "def update_entity_attributes(entity, attributes):\n",
                "    \"\"\"\n",
                "    Update the attributes of a given SQLAlchemy entity.\n",
                "\n",
                "    Args:\n",
                "        entity: The SQLAlchemy entity to be updated.\n",
                "        attributes: A dictionary of attribute names and their new values.\n",
                "    \"\"\"\n",
                "    for attr, value in attributes.items():\n",
                "        setattr(entity, attr, value)\n",
                "    return entity\n",
                "\n",
                "# Define function to clone initial parameters\n",
                "def clone_initial_parameters(session, entity_class):\n",
                "    \"\"\"\n",
                "    Clone the latest record of a given entity class, excluding the ID.\n",
                "\n",
                "    Args:\n",
                "        session: The SQLAlchemy session.\n",
                "        entity_class: The SQLAlchemy model class to clone.\n",
                "\n",
                "    Returns:\n",
                "        A new instance of the entity class with cloned attributes.\n",
                "    \"\"\"\n",
                "    # Get the latest record\n",
                "    latest_record = session.query(entity_class).order_by(entity_class.id.desc()).first()\n",
                "\n",
                "    # Clone attributes except 'id'\n",
                "    cloned_attributes = {col.name: getattr(latest_record, col.name) for col in entity_class.__table__.columns if col.name != \"id\"}\n",
                "    return create_object(entity_class.__name__, **cloned_attributes)\n"
            ]
        },
        {
            "cell_type": "code",
            "execution_count": null,
            "metadata": {},
            "outputs": [],
            "source": [
                "context = dict()\n",
                "context[\"base\"] = Base\n",
                "context[\"session\"] = Session(bind=engine)\n",
                "session = context[\"session\"]"
            ]
        },
        {
            "cell_type": "code",
            "execution_count": null,
            "metadata": {},
            "outputs": [],
            "source": [
                "\n",
                "# Load initial parameters or clone them if necessary\n",
                "train_process_count = session.query(Base.classes.train_process).count()\n",
                "init_param_count = session.query(Base.classes.train_process_init_parameter).count()\n",
                "\n",
                "# Check if cloning of initial parameters is required\n",
                "if train_process_count == init_param_count:\n",
                "    # Clone the latest initial parameters\n",
                "    new_init_params = clone_initial_parameters(session, Base.classes.train_process_init_parameter)\n",
                "\n",
                "    # Assign new ID to the cloned parameters\n",
                "    new_init_params.id = init_param_count + 1\n",
                "\n",
                "    # Add the cloned parameters to the session and commit\n",
                "    session.add(new_init_params)\n",
                "    session.commit()\n",
                "\n",
                "# Create and add new train process entry\n",
                "new_train_process = create_object(context, \"train_process\", with_commit=True, id=train_process_count + 1)\n",
                "# Update initial parameters with new train process ID\n",
                "update_entity_attributes(new_init_params, {\"train_process_id\": new_train_process.id})\n",
                "session.commit()\n"
            ]
        }
    ],
    "metadata": {
        "kernelspec": {
            "display_name": "Python 3",
            "language": "python",
            "name": "python3"
        },
        "language_info": {
            "codemirror_mode": {
                "name": "ipython",
                "version": 3
            },
            "file_extension": ".py",
            "mimetype": "text/x-python",
            "name": "python",
            "nbconvert_exporter": "python",
            "pygments_lexer": "ipython3",
            "version": "3.12.0"
        }
    },
    "nbformat": 4,
    "nbformat_minor": 2
}
