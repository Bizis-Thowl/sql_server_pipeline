{
    "cells": [
        {
            "cell_type": "code",
            "execution_count": 4,
            "metadata": {},
            "outputs": [
                {
                    "data": {
                        "text/plain": [
                            "'Year: 2025 p: 0.9999 remaining: 4.577264943464767e-07'"
                        ]
                    },
                    "metadata": {},
                    "output_type": "display_data"
                }
            ],
            "source": [
                "import os\n",
                "from urllib.parse import quote\n",
                "from IPython.display import display, clear_output\n",
                "import time\n",
                "\n",
                "import pandas as pd\n",
                "from datetime import datetime, timedelta, timezone\n",
                "\n",
                "from sqlalchemy import MetaData\n",
                "from sqlalchemy.ext.automap import automap_base\n",
                "from sqlalchemy.orm import Session, registry\n",
                "\n",
                "from dotenv import load_dotenv\n",
                "from sqlalchemy import create_engine\n",
                "\n",
                "def get_engine():\n",
                "    load_dotenv()\n",
                "    SERVER = os.getenv(\"SQL_SERVER_IP\")\n",
                "    PORT= os.getenv(\"SQL_SERVER_PORT\")\n",
                "    DATABASE = os.getenv(\"DB\")\n",
                "    USER = os.getenv(\"DB_USER\")\n",
                "    PASSWORD = os.getenv(\"DB_PW\")\n",
                "    DRIVER = os.getenv(\"DB_DRIVER\")\n",
                "    engine = create_engine(\n",
                "        f\"mssql+pyodbc://{USER}:{PASSWORD}@{SERVER}:{PORT}/{DATABASE}?driver={DRIVER}&TrustServerCertificate=yes\")\n",
                "    return engine\n",
                "\n",
                "def create_object(context, table_name, with_commit=False, **kwargs):\n",
                "    mapped_class = context[\"base\"].classes[table_name]\n",
                "    obj = mapped_class()\n",
                "    for key, value in kwargs.items():\n",
                "        setattr(obj, key, value)\n",
                "    context[\"session\"].add(obj)\n",
                "    if (with_commit):\n",
                "        context[\"session\"].commit()\n",
                "    return obj\n",
                "    \n",
                "def manipulate_date(input_date, hours=0, minutes=0):\n",
                "    delta = timedelta(hours=hours, minutes=minutes)    \n",
                "    manipulated_datetime = input_date + delta\n",
                "    return manipulated_datetime\n",
                "\n",
                "def get_time(stamp):\n",
                "    return datetime.strptime(str(stamp), \"%Y-%m-%d %H:%M:%S\")\n",
                "\n",
                "def update_output(text):\n",
                "    clear_output(wait=True)\n",
                "    display(text)\n",
                "\n",
                "df_time_clone = []   \n",
                "hours_of_day = 24\n",
                "minutes_of_day = 60   \n",
                "start_date = datetime(2016, 1, 1, 0, 0, 0)\n",
                "end_date = datetime(2017, 12, 31, 23, 59, 0)\n",
                "\n",
                "engine = get_engine()\n",
                "metadata = MetaData()\n",
                "metadata.reflect(bind=engine)\n",
                "Base = automap_base(metadata=metadata)\n",
                "Base.prepare(autoload_with=engine)    \n",
                "mapper_registry = registry()\n",
                "start = time.time()\n",
                "\n",
                "df_time = pd.read_sql_table(\"DIM_CALENDAR\", engine.connect())\n",
                "for index, row in df_time.iterrows():\n",
                "        progress = \"{:.4f}\".format(index/len(df_time.index))\n",
                "        year = str(get_time(row[\"CAL_DATE\"]).year)\n",
                "        stop= time.time()\n",
                "        ellapsed = stop - start\n",
                "        remaining = 0\n",
                "        if(index!=0):\n",
                "            remaining = ellapsed/index/len(df_time.index)\n",
                "        update_output(\"Year: \" + year + \" p: \" + progress +  \" remaining: \" + str(remaining))\n",
                "        now = get_time(row[\"CAL_DATE\"])\n",
                "        if(now > start_date and now < end_date):\n",
                "            for h in range(hours_of_day):\n",
                "                for m in range(minutes_of_day):\n",
                "                    row_cpy = row.copy()        \n",
                "                    row_cpy[\"CAL_DATE\"] =  manipulate_date(now, h, m)            \n",
                "                    df_time_clone.append(row_cpy)#df_time_clone = pd.concat([df_time_clone, row_cpy], axis=0\n",
                "\n",
                "time_df = pd.DataFrame(df_time_clone)\n",
                "time_df.sort_values(by=\"CAL_DATE\", inplace=True, ignore_index=True)\n",
                "time_df.reset_index(inplace=True, drop=True)"
            ]
        },
        {
            "cell_type": "code",
            "execution_count": 5,
            "metadata": {},
            "outputs": [
                {
                    "data": {
                        "text/plain": [
                            "8"
                        ]
                    },
                    "execution_count": 5,
                    "metadata": {},
                    "output_type": "execute_result"
                }
            ],
            "source": [
                "time_df.to_sql(name='DIM_CALENDAR_EXTENDED', con=engine, index=False, if_exists='replace')"
            ]
        }
    ],
    "metadata": {
        "kernelspec": {
            "display_name": "Python 3",
            "language": "python",
            "name": "python3"
        },
        "language_info": {
            "codemirror_mode": {
                "name": "ipython",
                "version": 3
            },
            "file_extension": ".py",
            "mimetype": "text/x-python",
            "name": "python",
            "nbconvert_exporter": "python",
            "pygments_lexer": "ipython3",
            "version": "3.10.9"
        }
    },
    "nbformat": 4,
    "nbformat_minor": 2
}
