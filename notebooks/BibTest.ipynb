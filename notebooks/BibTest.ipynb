{
    "cells": [
        {
            "cell_type": "code",
            "execution_count": null,
            "metadata": {
                "azdata_cell_guid": "c3d05f7d-fb65-4e9f-a566-814f74338ed5",
                "language": "python"
            },
            "outputs": [],
            "source": [
                "from NextVisionML import MLContext\n",
                "from NextVisionML import VarianceFilter, DecisionTreeClfr, OneHotClfr, CorrelationFilter, MutualInfoFilter"
            ]
        },
        {
            "cell_type": "code",
            "execution_count": null,
            "metadata": {},
            "outputs": [],
            "source": [
                "#Create an context (Loads data)\n",
                "mlcontext = MLContext()"
            ]
        },
        {
            "cell_type": "code",
            "execution_count": null,
            "metadata": {},
            "outputs": [],
            "source": [
                "mlcontext.train"
            ]
        },
        {
            "cell_type": "code",
            "execution_count": null,
            "metadata": {},
            "outputs": [],
            "source": [
                "#add feature selection methods\n",
                "#mlcontext.train_preparation_methods.append(VarianceFilter(mlcontext)) \n",
                "mlcontext.train_preparation_methods.append(CorrelationFilter(mlcontext)) \n",
                "mlcontext.train_preparation_methods.append(MutualInfoFilter(mlcontext))\n",
                "#Add data prepocessing methods\n",
                "mlcontext.train_methods.append(DecisionTreeClfr(mlcontext))\n",
                "mlcontext.train_methods.append(OneHotClfr(mlcontext))\n",
                "#select a model type\n",
                "\n",
                "#start the training process\n",
                "mlcontext.start_train_process()"
            ]
        }
    ],
    "metadata": {
        "kernelspec": {
            "display_name": "Python 3",
            "language": "python",
            "name": "python3"
        },
        "language_info": {
            "codemirror_mode": {
                "name": "ipython",
                "version": 3
            },
            "file_extension": ".py",
            "mimetype": "text/x-python",
            "name": "python",
            "nbconvert_exporter": "python",
            "pygments_lexer": "ipython3",
            "version": "3.10.9"
        }
    },
    "nbformat": 4,
    "nbformat_minor": 2
}
