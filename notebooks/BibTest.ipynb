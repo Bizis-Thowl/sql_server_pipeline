{
    "cells": [
        {
            "cell_type": "code",
            "execution_count": null,
            "metadata": {
                "azdata_cell_guid": "c3d05f7d-fb65-4e9f-a566-814f74338ed5",
                "language": "python"
            },
            "outputs": [],
            "source": [
                "from NextVisionML import MLContext\n",
                "from NextVisionML import VarianceFilter, DecisionTreeClfr, OneHotClfr"
            ]
        },
        {
            "cell_type": "code",
            "execution_count": null,
            "metadata": {},
            "outputs": [],
            "source": [
                "#Create an context (Loads data)\n",
                "mlcontext = MLContext()"
            ]
        },
        {
            "cell_type": "code",
            "execution_count": null,
            "metadata": {},
            "outputs": [],
            "source": [
                "#add feature selection methods\n",
                "mlcontext.hooks.append(VarianceFilter(mlcontext)) \n",
                "#Add data prepocessing methods\n",
                "mlcontext.train_methods.append(DecisionTreeClfr(mlcontext))\n",
                "mlcontext.train_methods.append(OneHotClfr(mlcontext))\n",
                "#select a model type\n",
                "\n",
                "#start the training process\n",
                "mlcontext.start_train_process()"
            ]
        },
        {
            "cell_type": "code",
            "execution_count": null,
            "metadata": {},
            "outputs": [],
            "source": [
                "import pandas as pd\n",
                "import dice_ml\n",
                "from dice_ml.utils import helpers # helper functions\n",
                "from sklearn.model_selection import train_test_split"
            ]
        },
        {
            "cell_type": "code",
            "execution_count": null,
            "metadata": {},
            "outputs": [],
            "source": [
                "import hyperopt"
            ]
        },
        {
            "cell_type": "code",
            "execution_count": null,
            "metadata": {},
            "outputs": [],
            "source": [
                "from NextVisionML import load_context\n",
                "\n",
                "sqlContext, train_with_labels, test_with_labels = load_context()\n"
            ]
        },
        {
            "cell_type": "code",
            "execution_count": null,
            "metadata": {},
            "outputs": [],
            "source": [
                "test_with_labels"
            ]
        },
        {
            "cell_type": "code",
            "execution_count": null,
            "metadata": {},
            "outputs": [],
            "source": []
        },
        {
            "cell_type": "code",
            "execution_count": null,
            "metadata": {},
            "outputs": [],
            "source": [
                "train_dataset = pd.concat([mlcontext.iter_train_X[2], mlcontext.iter_train_y[2]], axis = 0)\n",
                "cols = []#[\"Amb_WindSpeed_Std\", \"Avg_Precipitation\", \"Grd_Prod_CosPhi_Avg\", \"Max_Precipitation\", \"Min_Precipitation\"]\n",
                "train_dataset = train_dataset.drop(columns=cols)\n",
                "d = dice_ml.Data(\n",
                "    dataframe=train_dataset,\n",
                "    continuous_features= list(train_dataset.drop(columns=[\"Risk Level\"]).columns),\n",
                "    outcome_name=\"Risk Level\")\n",
                "\n",
                "# Using sklearn backend\n",
                "m = dice_ml.Model(model=mlcontext.iter_objs[2][\"model\"], backend=\"sklearn\")\n",
                "# Using method=random for generating CFs\n",
                "exp = dice_ml.Dice(d, m, method=\"random\")"
            ]
        },
        {
            "cell_type": "code",
            "execution_count": null,
            "metadata": {},
            "outputs": [],
            "source": [
                "test_data = mlcontext.iter_test_X[2].drop(columns = cols)"
            ]
        },
        {
            "cell_type": "code",
            "execution_count": null,
            "metadata": {},
            "outputs": [],
            "source": [
                "e1 = exp.generate_counterfactuals(test_data.iloc[:5].copy(), total_CFs=2, desired_class=0)"
            ]
        },
        {
            "cell_type": "code",
            "execution_count": null,
            "metadata": {},
            "outputs": [],
            "source": [
                "e1.visualize_as_dataframe(show_only_changes=False)"
            ]
        }
    ],
    "metadata": {
        "kernelspec": {
            "display_name": "Python 3",
            "language": "python",
            "name": "python3"
        },
        "language_info": {
            "codemirror_mode": {
                "name": "ipython",
                "version": 3
            },
            "file_extension": ".py",
            "mimetype": "text/x-python",
            "name": "python",
            "nbconvert_exporter": "python",
            "pygments_lexer": "ipython3",
            "version": "3.10.11"
        }
    },
    "nbformat": 4,
    "nbformat_minor": 2
}
