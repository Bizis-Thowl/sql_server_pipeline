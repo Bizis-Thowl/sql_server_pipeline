{
    "cells": [
        {
            "cell_type": "code",
            "execution_count": null,
            "metadata": {
                "azdata_cell_guid": "c3d05f7d-fb65-4e9f-a566-814f74338ed5",
                "language": "python"
            },
            "outputs": [],
            "source": [
                "import pandas as pd\n",
                "import math\n",
                "from pandas import DataFrame\n",
                "import numpy as np\n",
                "import matplotlib.pyplot as plt\n",
                "from sklearn.feature_selection import VarianceThreshold, mutual_info_classif\n",
                "from datetime import datetime, timedelta, timezone\n",
                "import pyodbc\n",
                "from sqlalchemy import Column, Date, Integer, String, Numeric, create_engine, Float, inspect, func, MetaData, Table, select, ForeignKey\n",
                "from sqlalchemy.ext.declarative import declarative_base\n",
                "from sqlalchemy.orm import mapper, registry, Session, relationship\n",
                "from sqlalchemy.ext.automap import automap_base\n",
                "from sklearn.tree import DecisionTreeClassifier\n",
                "from sklearn.metrics import f1_score, precision_score, recall_score, mean_squared_error, balanced_accuracy_score \n",
                "from sklearn.model_selection import GridSearchCV\n",
                "from sklearn.linear_model import LogisticRegression\n",
                "from sklearn.preprocessing import LabelEncoder\n",
                "from sklearn.base import BaseEstimator\n",
                "from sklearn.pipeline import Pipeline\n",
                "import scipy\n",
                "from hyperopt import fmin, tpe, hp, STATUS_OK, Trials"
            ]
        },
        {
            "cell_type": "code",
            "execution_count": null,
            "metadata": {
                "azdata_cell_guid": "531a76dc-cb5a-4556-95e6-f783ece904b2",
                "language": "python"
            },
            "outputs": [],
            "source": [
                "#SQLAlchemy Setup\n",
                "def get_engine():\n",
                "    SERVER = 'localhost'\n",
                "    DATABASE = 'metmast'\n",
                "    engine = create_engine(f'mssql+pyodbc:///?odbc_connect=DRIVER={{ODBC Driver 18 for SQL Server}};SERVER={SERVER};DATABASE={DATABASE};Trusted_Connection=yes;TrustServerCertificate=yes;')\n",
                "    return engine\n",
                "\n",
                "engine = get_engine()\n",
                "metadata = MetaData()\n",
                "metadata.reflect(bind=engine)\n",
                "Base = automap_base(metadata=metadata)\n",
                "Base.prepare(autoload_with=engine)\n",
                "mapper_registry = registry()"
            ]
        },
        {
            "cell_type": "code",
            "execution_count": null,
            "metadata": {
                "azdata_cell_guid": "9b7b30a4-7f65-436f-90f2-75cb1a6b517e",
                "language": "python",
                "tags": []
            },
            "outputs": [],
            "source": []
        },
        {
            "cell_type": "code",
            "execution_count": null,
            "metadata": {
                "azdata_cell_guid": "88d57a90-1aaa-4e38-8bf5-c77c173bffc7",
                "language": "python"
            },
            "outputs": [],
            "source": [
                "#SQLAlchemy Setup\n",
                "def get_engine():\n",
                "    SERVER = 'localhost'\n",
                "    DATABASE = 'metmast'\n",
                "    engine = create_engine(f'mssql+pyodbc:///?odbc_connect=DRIVER={{ODBC Driver 18 for SQL Server}};SERVER={SERVER};DATABASE={DATABASE};Trusted_Connection=yes;TrustServerCertificate=yes;')\n",
                "    return engine"
            ]
        },
        {
            "cell_type": "code",
            "execution_count": null,
            "metadata": {
                "azdata_cell_guid": "8079c9ac-b15f-452d-95a3-d860e2b17c49",
                "language": "python"
            },
            "outputs": [],
            "source": [
                "#Loading Data\n",
                "failures_2016 = pd.read_csv(r\"C:\\Raw Data\\failures-2016.csv\", sep=\";\")\n",
                "failures_2017 = pd.read_csv(r\"C:\\Raw Data\\failures-2017.csv\", sep=\";\")\n",
                "metmast_2016 = pd.read_csv(r\"C:\\Raw Data\\metmast-2016.csv\", sep=\";\")\n",
                "metmast_2017 = pd.read_csv(r\"C:\\Raw Data\\metmast-2017.csv\", sep=\";\")\n",
                "signals_2016 = pd.read_csv(r\"C:\\Raw Data\\signals-2016.csv\", sep=\";\")\n",
                "signals_2017 = pd.read_csv(r\"C:\\Raw Data\\signals-2017.csv\", sep=\";\")"
            ]
        },
        {
            "cell_type": "code",
            "execution_count": null,
            "metadata": {
                "azdata_cell_guid": "f7981c11-f86f-4d5d-878b-c7bbeef195b4",
                "language": "python",
                "tags": []
            },
            "outputs": [],
            "source": [
                "# Signale beider Jahre kombinieren\n",
                "signals = pd.concat([signals_2016, signals_2017])\n",
                "\n",
                "turbine_names = signals[\"Turbine_ID\"].unique()\n",
                "\n",
                "def create_df_for_each_turbine(signals):\n",
                "    turbine_dfs = list();\n",
                "\n",
                "    for turbine in turbine_names:\n",
                "        turbine_df = signals[signals[\"Turbine_ID\"] == turbine]\n",
                "        turbine_df = turbine_df.sort_values(\"Timestamp\")\n",
                "        turbine_df = turbine_df.reset_index(drop=True)\n",
                "        turbine_dfs.append(turbine_df)\n",
                "\n",
                "    return turbine_dfs\n",
                "\n",
                "turbine_dfs = create_df_for_each_turbine(signals)\n",
                "\n",
                "#Zusammenführen und sortieren\n",
                "metmast = pd.concat([metmast_2016, metmast_2017])\n",
                "metmast = metmast.sort_values(\"Timestamp\")\n",
                "\n",
                "# drop broken met data\n",
                "metmast = metmast.drop([\"Min_Winddirection2\", \"Max_Winddirection2\", \"Avg_Winddirection2\", \"Var_Winddirection2\"], axis=1)\n",
                "\n",
                "# Fill met data\n",
                "metmast = metmast.fillna(method = \"ffill\")\n",
                "metmast = metmast.fillna(method = \"bfill\")\n",
                "metmast.isna().sum().sum()\n",
                "\n",
                "failures = pd.concat([failures_2016, failures_2017])\n",
                "\n",
                "#Mergen\n",
                "def JoinMetamast(df:pd.DataFrame):\n",
                "    df = df.fillna(method = \"ffill\")\n",
                "    df = df.fillna(method = \"bfill\")\n",
                "    df = pd.merge(df, metmast, on=\"Timestamp\", how=\"left\")\n",
                "    df = df.fillna(method = \"ffill\")\n",
                "    df = df.fillna(method = \"bfill\")\n",
                "    df.isna().sum().sum()\n",
                "    return df\n",
                "\n",
                "merged = list()\n",
                "for turbine_df in turbine_dfs:\n",
                "    merged.append(JoinMetamast(turbine_df))\n",
                "merged_df = pd.concat(merged)\n",
                "\n",
                "failures_gearbox = failures[failures[\"Component\"] == \"GEARBOX\"]\n",
                "failures_gearbox.reset_index(drop=True, inplace=True)"
            ]
        },
        {
            "cell_type": "code",
            "execution_count": null,
            "metadata": {
                "azdata_cell_guid": "b98ad47e-87dd-433f-92e9-5dca69638266",
                "language": "python"
            },
            "outputs": [],
            "source": [
                "#Util Functions\n",
                "def get_round_minute_diff(datetime_in: datetime) -> timedelta:\n",
                "    min = datetime_in.minute\n",
                "    rounded_min = round(min, -1)\n",
                "    diff = rounded_min - min\n",
                "    return timedelta(minutes=diff)\n",
                "\n",
                "def convert_round_minute_to_time(datetime_in: datetime) -> datetime:\n",
                "    td = get_round_minute_diff(datetime_in)\n",
                "    return datetime_in + td"
            ]
        },
        {
            "cell_type": "code",
            "execution_count": null,
            "metadata": {
                "azdata_cell_guid": "c6ed3252-b028-4215-9e7e-9ea614374f9c",
                "language": "python"
            },
            "outputs": [],
            "source": [
                "days_lookback = 90\n",
                "mins_per_class = 24 * 60 / 10\n",
                "ten_mins_of_n_days = int(24 * 60 * days_lookback / 10) \n",
                "target_name = \"Class\"\n",
                "\n",
                "def GetClass(i:int)->int:\n",
                "    return math.floor(i/mins_per_class)\n",
                "\n",
                "def create_failure_list() -> pd.DataFrame:\n",
                "    failure_list = []\n",
                "    for i, failure in enumerate(failures_gearbox):\n",
                "        turbine_id = str(failures_gearbox[\"Turbine_ID\"][i])\n",
                "        failure_ts = str(failures_gearbox[\"Timestamp\"][i])\n",
                "        failure_datetime = datetime.fromisoformat(failure_ts)\n",
                "        rounded_datetime = convert_round_minute_to_time(failure_datetime)\n",
                "        for j in range(ten_mins_of_n_days):\n",
                "            delta = timedelta(minutes=j*10)\n",
                "            new_datetime = rounded_datetime - delta\n",
                "            datetime_formated = new_datetime.replace(tzinfo=timezone.utc)\n",
                "            failure_list.append([turbine_id, datetime_formated.isoformat(), GetClass(j)])    \n",
                "    failure_df = pd.DataFrame(failure_list, columns=[\"Turbine_ID\", \"Timestamp\", target_name])\n",
                "    return failure_df\n",
                "\n",
                "failure_df_class  = create_failure_list()\n",
                "#Der Feature-Datensatz wird mit den Labels zusammengeführt. Dabei ist besonders wichtig, dass der Bezug zu der jeweiligen Turbine bestehen bleibt.\n",
                "labeled_df = pd.merge(merged_df, failure_df_class, on=[\"Turbine_ID\", \"Timestamp\"], how=\"left\");\n",
                "labeled_df = labeled_df.reset_index(drop=True)"
            ]
        },
        {
            "cell_type": "code",
            "execution_count": null,
            "metadata": {
                "azdata_cell_guid": "a9b19440-d741-4c38-9b07-ae6f282405fd",
                "language": "python"
            },
            "outputs": [],
            "source": [
                "def create_failure_list(classes: list[str], days_per_class: int, target_name: str) -> pd.DataFrame:\n",
                "    days_lookback = len(classes) * days_per_class\n",
                "    ten_mins_of_n_days = int(24 * 60 * days_lookback / 10)\n",
                "    failure_list = []\n",
                "    for i, failure in enumerate(failures_gearbox):\n",
                "        turbine_id = str(failures_gearbox[\"Turbine_ID\"][i])\n",
                "        failure_ts = str(failures_gearbox[\"Timestamp\"][i])\n",
                "        failure_datetime = datetime.fromisoformat(failure_ts)\n",
                "        rounded_datetime = convert_round_minute_to_time(failure_datetime)\n",
                "        for iterator, current_class in enumerate(classes):\n",
                "            for j in range(ten_mins_of_n_days):\n",
                "                delta = timedelta(minutes=j*10)\n",
                "                # Prüfen ob obere und untere Schranke passen.\n",
                "                is_in_class = delta >= timedelta(days=iterator*days_per_class) and delta < timedelta(days=(iterator+1) * days_per_class)\n",
                "                if (is_in_class):\n",
                "                    new_datetime = rounded_datetime - delta\n",
                "                    datetime_formated = new_datetime.replace(tzinfo=timezone.utc)\n",
                "                    failure_list.append([turbine_id, datetime_formated.isoformat(), current_class])\n",
                "    \n",
                "    failure_df = pd.DataFrame(failure_list, columns=[\"Turbine_ID\", \"Timestamp\", target_name])\n",
                "\n",
                "    return failure_df\n",
                "\n",
                "class_target_name = \"Risk Level\"\n",
                "risk_levels = [\"low\", \"high\", \"med-high\", \"medium\", \"low-med\"]\n",
                "days_per_class = 18\n",
                "\n",
                "failure_df_multiclass = create_failure_list(classes=risk_levels, days_per_class=days_per_class, target_name=class_target_name)\n",
                "labeled_df = pd.merge(labeled_df, failure_df_multiclass, on=[\"Turbine_ID\", \"Timestamp\"], how=\"left\"); \n",
                "labeled_df = labeled_df.reset_index(drop=True)"
            ]
        },
        {
            "cell_type": "code",
            "execution_count": null,
            "metadata": {
                "azdata_cell_guid": "dd5c5352-6698-4713-814f-0eaeb8c59c69",
                "language": "python"
            },
            "outputs": [],
            "source": [
                "labeled_df[class_target_name].fillna(\"low\", inplace = True)\n",
                "labeled_df[target_name].fillna(90, inplace = True)"
            ]
        },
        {
            "cell_type": "code",
            "execution_count": null,
            "metadata": {
                "azdata_cell_guid": "37849cb2-7c0a-4aff-be0c-9eeec8da6f85",
                "language": "python"
            },
            "outputs": [],
            "source": [
                "labeled_df[target_name].value_counts()"
            ]
        },
        {
            "cell_type": "code",
            "execution_count": null,
            "metadata": {
                "azdata_cell_guid": "a4918270-51b4-47b8-90d5-4f44746b2da9",
                "language": "python"
            },
            "outputs": [],
            "source": [
                "# Alle Daten ab August 2017 liegen im Testset\n",
                "split_criterion_reg = labeled_df[\"Timestamp\"] >= \"2017-08-00T00:00:00+00:00\"\n",
                "\n",
                "test_gearbox = labeled_df[split_criterion_reg].reset_index(drop=True)#.iloc[:100].reset_index(drop=True)\n",
                "train_gearbox = labeled_df[~split_criterion_reg].reset_index(drop=True)#.iloc[:100].reset_index(drop=True)"
            ]
        },
        {
            "cell_type": "code",
            "execution_count": null,
            "metadata": {
                "azdata_cell_guid": "85ae35e6-d62d-4584-8137-80c4bb8b2b51",
                "language": "python",
                "tags": []
            },
            "outputs": [],
            "source": [
                "#Helper functions\n",
                "def getNextIdForTable(context, table_name):\n",
                "    table = context[\"base\"].classes[table_name]\n",
                "    return context[\"session\"].query(table.id).count() + 1\n",
                "\n",
                "def create_object(context, table_name, **kwargs):\n",
                "    mapped_class = context[\"base\"].classes[table_name]\n",
                "    obj = mapped_class()\n",
                "    #setattr(obj, \"id\", getNextIdForTable(context, table_name))\n",
                "    for key, value in kwargs.items():\n",
                "        setattr(obj, key, value)\n",
                "    context[\"session\"].add(obj)\n",
                "    context[\"session\"].commit()\n",
                "    return obj\n",
                "\n",
                "def update_values(obj, ref_class, session, **kwargs):\n",
                "    #clone = ref_class()\n",
                "    for column in ref_class.__table__.columns:\n",
                "        if(column.name in kwargs):\n",
                "            setattr(obj, column.name, kwargs[column.name])\n",
                "        #else:\n",
                "            #setattr(clone, column.name, getattr(obj, column.name))\n",
                "    #session.delete(obj)\n",
                "    #session.add(clone)\n",
                "    session.commit() \n",
                "    return obj\n",
                "def get_feature_id_by_name(Base, name):\n",
                "    query = session.query(metadata.tables[\"feature\"])\n",
                "    df = pd.DataFrame()\n",
                "    for batch in pd.read_sql_query(query.statement, engine, chunksize= 5):\n",
                "        df = pd.concat([df, batch], ignore_index=True)\n",
                "    for index, row in df.iterrows():\n",
                "        if(row[\"name\"]==name):\n",
                "            return row[\"id\"]\n",
                "  \n"
            ]
        },
        {
            "cell_type": "code",
            "execution_count": null,
            "metadata": {
                "azdata_cell_guid": "5caef074-47b6-4cc3-b026-44f2309ff28c",
                "language": "python",
                "tags": []
            },
            "outputs": [],
            "source": [
                "#SQLAlchemy Setup\n",
                "def get_engine():\n",
                "    SERVER = 'localhost'\n",
                "    DATABASE = 'metmast'\n",
                "    engine = create_engine(f'mssql+pyodbc:///?odbc_connect=DRIVER={{ODBC Driver 18 for SQL Server}};SERVER={SERVER};DATABASE={DATABASE};Trusted_Connection=yes;TrustServerCertificate=yes;')\n",
                "    return engine\n",
                "\n",
                "engine = get_engine()\n",
                "metadata = MetaData()\n",
                "metadata.reflect(bind=engine)\n",
                "Base = automap_base(metadata=metadata)\n",
                "Base.prepare(autoload_with=engine)\n",
                "mapper_registry = registry()"
            ]
        },
        {
            "cell_type": "code",
            "execution_count": null,
            "metadata": {
                "azdata_cell_guid": "4b19cd84-21a7-4bcb-93e4-f3b25eb765ca",
                "language": "python"
            },
            "outputs": [],
            "source": [
                "print(train_gearbox.columns)"
            ]
        },
        {
            "cell_type": "code",
            "execution_count": null,
            "metadata": {
                "azdata_cell_guid": "8cc317eb-b006-40fe-ac77-fdcc1f061711",
                "language": "python",
                "tags": []
            },
            "outputs": [],
            "source": [
                "context = dict()\n",
                "context[\"base\"] = Base\n",
                "context[\"session\"] = Session(bind=engine)\n",
                "\n",
                "if(getNextIdForTable(context, \"data_meta\")==1):\n",
                "    data_meta = create_object(context, \"data_meta\")\n",
                "\n",
                "groupings = [\"train\", \"test\"]\n",
                "grouping_ids = dict()\n",
                "if(getNextIdForTable(context, \"datapoint_mappings\")<len(groupings)):\n",
                "    for i, grouping_val in enumerate(groupings):\n",
                "        create_object(context, \"datapoint_mappings\",\n",
                "            data_meta_id = 1,\n",
                "            grouping = grouping_val\n",
                "        )\n",
                "for i, grouping_val in enumerate(groupings):\n",
                "    grouping_ids[grouping_val] = i + 1\n",
                "\n",
                "label_names = [\"Class\", \"Risk Level\"]\n",
                "label_ids = dict()\n",
                "if(getNextIdForTable(context, \"label\")<len(label_names)):\n",
                "    for i, label in enumerate(label_names):\n",
                "        create_object(context, \"label\",\n",
                "            data_meta_id = 1,\n",
                "            name = label,\n",
                "            description = \"TBD\"\n",
                "        )\n",
                "for i, name in enumerate(label_names):\n",
                "    label_ids[name] = i + 1\n",
                "\n",
                "meta_info_names = [\"Turbine_ID\", \"Timestamp\"]\n",
                "feature_names = [feature for feature in train_gearbox.columns if feature not in label_names and feature not in meta_info_names]\n",
                "aggregated_meta_feature_list = meta_info_names + feature_names\n",
                "aggregated_meta_feature_list = [feature for feature in aggregated_meta_feature_list if feature!=\"internal_string_102412\"]\n",
                "feature_ids = dict()\n",
                "meta_info_ids = dict()\n",
                "if(getNextIdForTable(context, \"feature\")<len(aggregated_meta_feature_list)):\n",
                "    for i, name in enumerate(aggregated_meta_feature_list):\n",
                "        type_ = \"data\"\n",
                "        if name in meta_info_names:\n",
                "            type_ = \"meta\"\n",
                "        create_object(context, \"feature\",\n",
                "            data_meta_id = 1,\n",
                "            name = name,\n",
                "            type_ = type_,\n",
                "            description = \"TBD\"\n",
                "        )\n",
                "for i, name in enumerate(aggregated_meta_feature_list):\n",
                "    if name in meta_info_ids:\n",
                "        meta_info_ids[name] = i + 1\n",
                "    else:\n",
                "        feature_ids[name] = i + 1\n",
                "aggregated_meta_feature_ids = {**feature_ids, **meta_info_ids}\n",
                "\n",
                "train_gearbox[\"internal_string_102412\"] = \"train\"\n",
                "test_gearbox[\"internal_string_102412\"] = \"test\"\n",
                "data = pd.concat([train_gearbox, test_gearbox], axis = 0)\n",
                "helper_string_row_index = data.columns.get_loc(\"internal_string_102412\")\n",
                "if(getNextIdForTable(context, \"datapoint\")<2):    \n",
                "    for i, row in enumerate(data.iterrows()):\n",
                "        _, row = row  \n",
                "        datapoint = create_object(context, \"datapoint\",\n",
                "            datapoint_mappings_id = grouping_ids[row[helper_string_row_index]]\n",
                "        )\n",
                "        for key, value in row.items():\n",
                "            if(key not in label_names and key!=\"internal_string_102412\"):\n",
                "                if \"float\" in str(type(value)):\n",
                "                    create_object(context, \"datapoint_feature_value_float\",\n",
                "                        datapoint_id = datapoint.id,\n",
                "                        feature_id = aggregated_meta_feature_ids[key],\n",
                "                        float_ = float(value)\n",
                "                    )\n",
                "                elif \"int\" in str(type(value)):\n",
                "                    create_object(context, \"datapoint_feature_value_int\",\n",
                "                        datapoint_id = datapoint.id,\n",
                "                        feature_id = aggregated_meta_feature_ids[key],\n",
                "                        int_ = int(value)\n",
                "                    )\n",
                "                else: #\"string\" in str(type(value)):\n",
                "                    create_object(context, \"datapoint_feature_value_string\",\n",
                "                        datapoint_id = datapoint.id,\n",
                "                        feature_id = aggregated_meta_feature_ids[key],\n",
                "                        string_ = str(value) \n",
                "                    )\n",
                "\n",
                "\n",
                "\n"
            ]
        },
        {
            "cell_type": "code",
            "execution_count": null,
            "metadata": {
                "azdata_cell_guid": "604b785c-9816-4778-8987-2ebc77812acb",
                "language": "python",
                "tags": []
            },
            "outputs": [],
            "source": [
                "aggregated_meta_feature_ids"
            ]
        },
        {
            "cell_type": "code",
            "execution_count": null,
            "metadata": {
                "azdata_cell_guid": "ce1864fa-8810-4797-812c-7e625734d595",
                "language": "python"
            },
            "outputs": [],
            "source": [
                "data.columns"
            ]
        },
        {
            "cell_type": "code",
            "execution_count": null,
            "metadata": {
                "azdata_cell_guid": "07d067d3-a917-41eb-8e72-737c2d8fab86",
                "language": "python",
                "tags": []
            },
            "outputs": [],
            "source": [
                "for key, value in train_gearbox.iloc[0].items():\n",
                "    print(str(key) + \": \" + str(type(value)))"
            ]
        }
    ],
    "metadata": {
        "kernelspec": {
            "display_name": "Python 3",
            "language": "python",
            "name": "python3"
        },
        "language_info": {
            "codemirror_mode": {
                "name": "ipython",
                "version": 3
            },
            "file_extension": ".py",
            "mimetype": "text/x-python",
            "name": "python",
            "nbconvert_exporter": "python",
            "pygments_lexer": "ipython3",
            "version": "3.10.11"
        }
    },
    "nbformat": 4,
    "nbformat_minor": 2
}
