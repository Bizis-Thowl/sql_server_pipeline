{
    "cells": [
        {
            "cell_type": "code",
            "execution_count": null,
            "metadata": {
                "azdata_cell_guid": "c3d05f7d-fb65-4e9f-a566-814f74338ed5",
                "language": "python"
            },
            "outputs": [],
            "source": [
                "import math\n",
                "from datetime import datetime, timedelta, timezone\n",
                "\n",
                "import pandas as pd\n",
                "from sqlalchemy import MetaData\n",
                "from sqlalchemy.ext.automap import automap_base\n",
                "from sqlalchemy.orm import Session, registry\n",
                "\n",
                "from utils.handle_engine import get_engine"
            ]
        },
        {
            "cell_type": "code",
            "execution_count": null,
            "metadata": {
                "azdata_cell_guid": "531a76dc-cb5a-4556-95e6-f783ece904b2",
                "language": "python"
            },
            "outputs": [],
            "source": [
                "#SQLAlchemy Setup\n",
                "engine = get_engine()\n",
                "metadata = MetaData()\n",
                "metadata.reflect(bind=engine)\n",
                "Base = automap_base(metadata=metadata)\n",
                "Base.prepare(autoload_with=engine)\n",
                "mapper_registry = registry()"
            ]
        },
        {
            "cell_type": "code",
            "execution_count": null,
            "metadata": {
                "azdata_cell_guid": "8079c9ac-b15f-452d-95a3-d860e2b17c49",
                "language": "python"
            },
            "outputs": [],
            "source": [
                "#Loading Data\n",
                "failures_2016 = pd.read_csv(\"../data/failures-2016.csv\", sep=\";\")\n",
                "failures_2017 = pd.read_csv(\"../data/failures-2017.csv\", sep=\";\")\n",
                "metmast_2016 = pd.read_csv(\"../data/metmast-2016.csv\", sep=\";\")\n",
                "metmast_2017 = pd.read_csv(\"../data/metmast-2017.csv\", sep=\";\")\n",
                "signals_2016 = pd.read_csv(\"../data/signals-2016.csv\", sep=\";\")\n",
                "signals_2017 = pd.read_csv(\"../data/signals-2017.csv\", sep=\";\")"
            ]
        },
        {
            "cell_type": "code",
            "execution_count": null,
            "metadata": {
                "azdata_cell_guid": "f7981c11-f86f-4d5d-878b-c7bbeef195b4",
                "language": "python",
                "tags": []
            },
            "outputs": [],
            "source": [
                "# Signale beider Jahre kombinieren\n",
                "signals = pd.concat([signals_2016, signals_2017])\n",
                "\n",
                "turbine_names = signals[\"Turbine_ID\"].unique()\n",
                "\n",
                "def create_df_for_each_turbine(signals):\n",
                "    turbine_dfs = list()\n",
                "\n",
                "    for turbine in turbine_names:\n",
                "        turbine_df = signals[signals[\"Turbine_ID\"] == turbine]\n",
                "        turbine_df = turbine_df.sort_values(\"Timestamp\")\n",
                "        turbine_df = turbine_df.reset_index(drop=True)\n",
                "        turbine_dfs.append(turbine_df)\n",
                "\n",
                "    return turbine_dfs\n",
                "\n",
                "turbine_dfs = create_df_for_each_turbine(signals)\n",
                "\n",
                "#Zusammenführen und sortieren\n",
                "metmast = pd.concat([metmast_2016, metmast_2017])\n",
                "metmast = metmast.sort_values(\"Timestamp\")\n",
                "\n",
                "# drop broken met data\n",
                "metmast = metmast.drop([\"Min_Winddirection2\", \"Max_Winddirection2\", \"Avg_Winddirection2\", \"Var_Winddirection2\"], axis=1)\n",
                "\n",
                "# Fill met data\n",
                "metmast = metmast.fillna(method = \"ffill\")\n",
                "metmast = metmast.fillna(method = \"bfill\")\n",
                "metmast.isna().sum().sum()\n",
                "\n",
                "failures = pd.concat([failures_2016, failures_2017])\n",
                "\n",
                "#Mergen\n",
                "def JoinMetamast(df:pd.DataFrame):\n",
                "    df = df.ffill()\n",
                "    df = df.bfill()\n",
                "    df = pd.merge(df, metmast, on=\"Timestamp\", how=\"left\")\n",
                "    df = df.ffill()\n",
                "    df = df.bfill()\n",
                "    df.isna().sum().sum()\n",
                "    return df\n",
                "\n",
                "merged = list()\n",
                "for turbine_df in turbine_dfs:\n",
                "    merged.append(JoinMetamast(turbine_df))\n",
                "merged_df = pd.concat(merged)\n",
                "\n",
                "failures_gearbox = failures[failures[\"Component\"] == \"GEARBOX\"]\n",
                "failures_gearbox.reset_index(drop=True, inplace=True)"
            ]
        },
        {
            "cell_type": "code",
            "execution_count": null,
            "metadata": {
                "azdata_cell_guid": "b98ad47e-87dd-433f-92e9-5dca69638266",
                "language": "python"
            },
            "outputs": [],
            "source": [
                "#Util Functions\n",
                "def get_round_minute_diff(datetime_in: datetime) -> timedelta:\n",
                "    min = datetime_in.minute\n",
                "    rounded_min = round(min, -1)\n",
                "    diff = rounded_min - min\n",
                "    return timedelta(minutes=diff)\n",
                "\n",
                "def convert_round_minute_to_time(datetime_in: datetime) -> datetime:\n",
                "    td = get_round_minute_diff(datetime_in)\n",
                "    return datetime_in + td"
            ]
        },
        {
            "cell_type": "code",
            "execution_count": null,
            "metadata": {
                "azdata_cell_guid": "c6ed3252-b028-4215-9e7e-9ea614374f9c",
                "language": "python"
            },
            "outputs": [],
            "source": [
                "days_lookback = 90\n",
                "mins_per_class = 24 * 60 / 10\n",
                "ten_mins_of_n_days = int(24 * 60 * days_lookback / 10) \n",
                "target_name = \"Class\"\n",
                "\n",
                "def GetClass(i:int)->int:\n",
                "    return math.floor(i/mins_per_class)\n",
                "\n",
                "def create_failure_list() -> pd.DataFrame:\n",
                "    failure_list = []\n",
                "    for i, failure in enumerate(failures_gearbox):\n",
                "        turbine_id = str(failures_gearbox[\"Turbine_ID\"][i])\n",
                "        failure_ts = str(failures_gearbox[\"Timestamp\"][i])\n",
                "        failure_datetime = datetime.fromisoformat(failure_ts)\n",
                "        rounded_datetime = convert_round_minute_to_time(failure_datetime)\n",
                "        for j in range(ten_mins_of_n_days):\n",
                "            delta = timedelta(minutes=j*10)\n",
                "            new_datetime = rounded_datetime - delta\n",
                "            datetime_formated = new_datetime.replace(tzinfo=timezone.utc)\n",
                "            failure_list.append([turbine_id, datetime_formated.isoformat(), GetClass(j)])    \n",
                "    failure_df = pd.DataFrame(failure_list, columns=[\"Turbine_ID\", \"Timestamp\", target_name])\n",
                "    return failure_df\n",
                "\n",
                "failure_df_class  = create_failure_list()\n",
                "#Der Feature-Datensatz wird mit den Labels zusammengeführt. Dabei ist besonders wichtig, dass der Bezug zu der jeweiligen Turbine bestehen bleibt.\n",
                "labeled_df = pd.merge(merged_df, failure_df_class, on=[\"Turbine_ID\", \"Timestamp\"], how=\"left\")\n",
                "labeled_df = labeled_df.reset_index(drop=True)"
            ]
        },
        {
            "cell_type": "code",
            "execution_count": null,
            "metadata": {
                "azdata_cell_guid": "a9b19440-d741-4c38-9b07-ae6f282405fd",
                "language": "python"
            },
            "outputs": [],
            "source": [
                "def create_failure_list(classes: list[str], days_per_class: int, target_name: str) -> pd.DataFrame:\n",
                "    days_lookback = len(classes) * days_per_class\n",
                "    ten_mins_of_n_days = int(24 * 60 * days_lookback / 10)\n",
                "    failure_list = []\n",
                "    for i, failure in enumerate(failures_gearbox):\n",
                "        turbine_id = str(failures_gearbox[\"Turbine_ID\"][i])\n",
                "        failure_ts = str(failures_gearbox[\"Timestamp\"][i])\n",
                "        failure_datetime = datetime.fromisoformat(failure_ts)\n",
                "        rounded_datetime = convert_round_minute_to_time(failure_datetime)\n",
                "        for iterator, current_class in enumerate(classes):\n",
                "            for j in range(ten_mins_of_n_days):\n",
                "                delta = timedelta(minutes=j*10)\n",
                "                # Prüfen ob obere und untere Schranke passen.\n",
                "                is_in_class = delta >= timedelta(days=iterator*days_per_class) and delta < timedelta(days=(iterator+1) * days_per_class)\n",
                "                if (is_in_class):\n",
                "                    new_datetime = rounded_datetime - delta\n",
                "                    datetime_formated = new_datetime.replace(tzinfo=timezone.utc)\n",
                "                    failure_list.append([turbine_id, datetime_formated.isoformat(), current_class])\n",
                "\n",
                "    failure_df = pd.DataFrame(failure_list, columns=[\"Turbine_ID\", \"Timestamp\", target_name])\n",
                "\n",
                "    return failure_df\n",
                "\n",
                "class_target_name = \"Risk Level\"\n",
                "risk_levels = [\"low\", \"high\", \"med-high\", \"medium\", \"low-med\"]\n",
                "days_per_class = 18\n",
                "\n",
                "failure_df_multiclass = create_failure_list(classes=risk_levels, days_per_class=days_per_class, target_name=class_target_name)\n",
                "labeled_df = pd.merge(labeled_df, failure_df_multiclass, on=[\"Turbine_ID\", \"Timestamp\"], how=\"left\")\n",
                "labeled_df = labeled_df.reset_index(drop=True)"
            ]
        },
        {
            "cell_type": "code",
            "execution_count": null,
            "metadata": {
                "azdata_cell_guid": "dd5c5352-6698-4713-814f-0eaeb8c59c69",
                "language": "python"
            },
            "outputs": [],
            "source": [
                "labeled_df[class_target_name].fillna(\"low\", inplace = True)\n",
                "labeled_df[target_name].fillna(90, inplace = True)"
            ]
        },
        {
            "cell_type": "code",
            "execution_count": null,
            "metadata": {
                "azdata_cell_guid": "37849cb2-7c0a-4aff-be0c-9eeec8da6f85",
                "language": "python"
            },
            "outputs": [],
            "source": [
                "labeled_df[target_name].value_counts()"
            ]
        },
        {
            "cell_type": "code",
            "execution_count": null,
            "metadata": {
                "azdata_cell_guid": "a4918270-51b4-47b8-90d5-4f44746b2da9",
                "language": "python"
            },
            "outputs": [],
            "source": [
                "# Alle Daten ab August 2017 liegen im Testset\n",
                "split_criterion_reg = labeled_df[\"Timestamp\"] >= \"2017-08-00T00:00:00+00:00\"\n",
                "\n",
                "test_gearbox = labeled_df[split_criterion_reg].reset_index(drop=True)#.iloc[:100].reset_index(drop=True)\n",
                "train_gearbox = labeled_df[~split_criterion_reg].reset_index(drop=True)#.iloc[:100].reset_index(drop=True)"
            ]
        },
        {
            "cell_type": "code",
            "execution_count": null,
            "metadata": {
                "azdata_cell_guid": "4b19cd84-21a7-4bcb-93e4-f3b25eb765ca",
                "language": "python"
            },
            "outputs": [],
            "source": [
                "print(train_gearbox.head())"
            ]
        },
        {
            "cell_type": "code",
            "execution_count": null,
            "metadata": {
                "azdata_cell_guid": "85ae35e6-d62d-4584-8137-80c4bb8b2b51",
                "language": "python",
                "tags": []
            },
            "outputs": [],
            "source": [
                "from utils.create_object import create_object\n",
                "from utils.create_objects import create_objects"
            ]
        },
        {
            "cell_type": "code",
            "execution_count": null,
            "metadata": {
                "azdata_cell_guid": "8cc317eb-b006-40fe-ac77-fdcc1f061711",
                "language": "python",
                "tags": []
            },
            "outputs": [],
            "source": [
                "context = dict()\n",
                "context[\"base\"] = Base\n",
                "context[\"session\"] = Session(bind=engine)\n",
                "\n",
                "data_meta = create_object(context, \"data_meta\")\n",
                "\n",
                "groupings = [\"train\", \"test\"]\n",
                "datapoint_mappings = {}\n",
                "for i, grouping_val in enumerate(groupings):\n",
                "    datapoint_mappings[grouping_val] = create_object(context, \"datapoint_mappings\", with_commit=True,\n",
                "        data_meta_id = 1,\n",
                "        grouping = grouping_val\n",
                "    )\n",
                "\n",
                "label_names = [\"Class\", \"Risk Level\"]\n",
                "label_entries = {}\n",
                "for i, label in enumerate(label_names):\n",
                "    label_entries[label] = create_object(context, \"label\", with_commit=True,\n",
                "        data_meta_id = 1,\n",
                "        name = label,\n",
                "        description = \"TBD\"\n",
                "    )\n",
                "\n",
                "time_name = \"Timestamp\"\n",
                "filter_names = [\"Turbine_ID\"]\n",
                "meta_info_names = filter_names + [time_name]\n",
                "feature_names = [feature for feature in train_gearbox.columns if feature not in label_names and feature not in meta_info_names]\n",
                "aggregated_meta_feature_list = meta_info_names + feature_names\n",
                "aggregated_meta_feature_list = [feature for feature in aggregated_meta_feature_list]\n",
                "feature_entries = {}\n",
                "filter_entries = {}\n",
                "for i, name in enumerate(aggregated_meta_feature_list):\n",
                "    type_ = \"data\"\n",
                "    if name==time_name:\n",
                "        time = create_object(context, \"time\", with_commit=True,\n",
                "            data_meta_id = 1,\n",
                "            name = name,\n",
                "            description = \"TBD\"\n",
                "        )\n",
                "    elif name in filter_names:\n",
                "        filter = create_object(context, \"filter\", with_commit=True,\n",
                "            data_meta_id = 1,\n",
                "            name = name,\n",
                "            description = \"TBD\"\n",
                "        )\n",
                "        filter_entries[name] = filter\n",
                "    else:\n",
                "        feature = create_object(context, \"feature\", with_commit=True,\n",
                "            data_meta_id = 1,\n",
                "            name = name,\n",
                "            type_ = type_,\n",
                "            description = \"TBD\"\n",
                "        )\n",
                "        feature_entries[name] = feature\n",
                "\n",
                "def process_row(row, context, datapoint_id, mapping_id, feature_entries, filter_entries):\n",
                "    create_object(context, \"datapoint\",\n",
                "                              id=datapoint_id,\n",
                "                              datapoint_mappings_id=mapping_id,\n",
                "                              datetime=datetime.strptime(row[time_name][:19], \"%Y-%m-%dT%H:%M:%S\"))\n",
                "\n",
                "    filter_values = [{'datapoint_id': datapoint_id, 'filter_id': filter_entries[key].id, 'value': value} \n",
                "                    for key, value in row.items() if key in filter_entries.keys()]\n",
                "\n",
                "    # Process features\n",
                "    feature_values = [{'datapoint_id': datapoint_id, 'feature_id': feature_entries[key].id, 'value': float(value)} \n",
                "                      for key, value in row.items() if key in feature_entries.keys()]\n",
                "\n",
                "    create_object(context, \"datapoint_rul_label\", datapoint_id=datapoint_id, label_id=label_entries[label_names[0]].id, value=row[label_names[0]])\n",
                "    create_object(context, \"datapoint_class_label\", datapoint_id=datapoint_id, label_id=label_entries[label_names[1]].id, value=row[label_names[1]])\n",
                "\n",
                "    # Batch create datapoint_feature_value objects\n",
                "    create_objects(context, \"datapoint_feature_value\", feature_values)\n",
                "\n",
                "    # # Create datapoint_filter object\n",
                "    create_objects(context, \"datapoint_filter\", filter_values)\n",
                "\n",
                "def apply_to_row(row, args):\n",
                "    mapping_id = int(args)\n",
                "    # base datapoint ID on row id and the mapping id and make sure datapoint_ids are not overlapping with big integer\n",
                "    datapoint_id = (mapping_id-1) * 1000000 + int(row.name) + 1\n",
                "    process_row(row, context, datapoint_id, mapping_id, feature_entries, filter_entries)\n",
                "    # commit every 5000 rows to prevent memory overflow\n",
                "    if (int(row.name) % 5000 == 0 and int(row.name) != 0):\n",
                "        context[\"session\"].commit()\n",
                "# Main loop\n",
                "for grouping, dataset in {\"test\": test_gearbox, \"train\": train_gearbox}.items():\n",
                "    # Apply the function to each row\n",
                "    dataset.apply(apply_to_row, args=(datapoint_mappings[grouping].id,), axis=1)\n",
                "\n",
                "# for all remaining datapoints\n",
                "context[\"session\"].commit()\n"
            ]
        },
        {
            "cell_type": "code",
            "execution_count": null,
            "metadata": {},
            "outputs": [],
            "source": []
        }
    ],
    "metadata": {
        "kernelspec": {
            "display_name": "Python 3",
            "language": "python",
            "name": "python3"
        },
        "language_info": {
            "codemirror_mode": {
                "name": "ipython",
                "version": 3
            },
            "file_extension": ".py",
            "mimetype": "text/x-python",
            "name": "python",
            "nbconvert_exporter": "python",
            "pygments_lexer": "ipython3",
            "version": "3.12.0"
        }
    },
    "nbformat": 4,
    "nbformat_minor": 2
}
