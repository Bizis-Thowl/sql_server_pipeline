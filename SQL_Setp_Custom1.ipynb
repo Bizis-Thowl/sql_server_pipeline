{
 "cells": [
  {
   "cell_type": "code",
   "execution_count": 6,
   "metadata": {},
   "outputs": [],
   "source": [
    "import pandas as pd\n",
    "import math\n",
    "from pandas import DataFrame\n",
    "import numpy as np\n",
    "import matplotlib.pyplot as plt\n",
    "from sklearn.feature_selection import VarianceThreshold\n",
    "from datetime import datetime, timedelta, timezone\n",
    "import pyodbc\n",
    "from sqlalchemy import Column, Date, Integer, String, Numeric, create_engine, Float\n",
    "from sqlalchemy.ext.declarative import declarative_base\n",
    "from sqlalchemy import create_engine, MetaData, Table, Column, Integer, String, Float, ForeignKey, func\n",
    "from sqlalchemy.orm import mapper, registry, Session"
   ]
  },
  {
   "cell_type": "markdown",
   "metadata": {},
   "source": [
    "## SQLAlchemy Setup"
   ]
  },
  {
   "cell_type": "code",
   "execution_count": 25,
   "metadata": {},
   "outputs": [],
   "source": [
    "\n",
    "def get_engine():\n",
    "    SERVER = '172.28.36.44'\n",
    "    PORT= \"1456\"\n",
    "    DATABASE = 'metmast'\n",
    "    USER = \"metmast_user\"\n",
    "    PASSWORD = \"YourStrongPassword1!\"\n",
    "    engine = create_engine('mssql+pyodbc://{}:{}@{}:{}/{}?driver=ODBC+Driver+18+for+SQL+Server&TrustServerCertificate=yes'.format(USER, PASSWORD, SERVER, PORT, DATABASE))\n",
    "    return engine"
   ]
  },
  {
   "cell_type": "code",
   "execution_count": 8,
   "metadata": {},
   "outputs": [],
   "source": [
    "#Loading Data\n",
    "failures_2016 = pd.read_csv(\"./data/init/failures-2016.csv\", sep=\";\")\n",
    "failures_2017 = pd.read_csv(\"./data/init/failures-2017.csv\", sep=\";\")\n",
    "metmast_2016 = pd.read_csv(\"./data/init/metmast-2016.csv\", sep=\";\")\n",
    "metmast_2017 = pd.read_csv(\"./data/init/metmast-2017.csv\", sep=\";\")\n",
    "signals_2016 = pd.read_csv(\"./data/init/signals-2016.csv\", sep=\";\")\n",
    "signals_2017 = pd.read_csv(\"./data/init/signals-2017.csv\", sep=\";\")"
   ]
  },
  {
   "cell_type": "code",
   "execution_count": 9,
   "metadata": {},
   "outputs": [],
   "source": [
    "# Signale beider Jahre kombinieren\n",
    "signals = pd.concat([signals_2016, signals_2017])"
   ]
  },
  {
   "cell_type": "code",
   "execution_count": 10,
   "metadata": {},
   "outputs": [],
   "source": [
    "turbine_names = signals[\"Turbine_ID\"].unique()"
   ]
  },
  {
   "cell_type": "code",
   "execution_count": 11,
   "metadata": {},
   "outputs": [],
   "source": [
    "def create_df_for_each_turbine(signals):\n",
    "    turbine_dfs = list();\n",
    "\n",
    "    for turbine in turbine_names:\n",
    "        turbine_df = signals[signals[\"Turbine_ID\"] == turbine]\n",
    "        turbine_df = turbine_df.sort_values(\"Timestamp\")\n",
    "        turbine_df = turbine_df.reset_index(drop=True)\n",
    "        turbine_dfs.append(turbine_df)\n",
    "\n",
    "    return turbine_dfs\n",
    "\n",
    "turbine_dfs = create_df_for_each_turbine(signals)"
   ]
  },
  {
   "cell_type": "code",
   "execution_count": 12,
   "metadata": {},
   "outputs": [],
   "source": [
    "#Zusammenführen und sortieren\n",
    "metmast = pd.concat([metmast_2016, metmast_2017])\n",
    "metmast = metmast.sort_values(\"Timestamp\")"
   ]
  },
  {
   "cell_type": "code",
   "execution_count": 13,
   "metadata": {},
   "outputs": [],
   "source": [
    "# drop broken met data\n",
    "metmast = metmast.drop([\"Min_Winddirection2\", \"Max_Winddirection2\", \"Avg_Winddirection2\", \"Var_Winddirection2\"], axis=1)"
   ]
  },
  {
   "cell_type": "code",
   "execution_count": 14,
   "metadata": {},
   "outputs": [
    {
     "name": "stderr",
     "output_type": "stream",
     "text": [
      "C:\\Users\\valentin grimm\\AppData\\Local\\Temp\\3\\ipykernel_17864\\2338063070.py:2: FutureWarning: DataFrame.fillna with 'method' is deprecated and will raise in a future version. Use obj.ffill() or obj.bfill() instead.\n",
      "  metmast = metmast.fillna(method = \"ffill\")\n",
      "C:\\Users\\valentin grimm\\AppData\\Local\\Temp\\3\\ipykernel_17864\\2338063070.py:3: FutureWarning: DataFrame.fillna with 'method' is deprecated and will raise in a future version. Use obj.ffill() or obj.bfill() instead.\n",
      "  metmast = metmast.fillna(method = \"bfill\")\n"
     ]
    },
    {
     "data": {
      "text/plain": [
       "0"
      ]
     },
     "execution_count": 14,
     "metadata": {},
     "output_type": "execute_result"
    }
   ],
   "source": [
    "# Fill met data\n",
    "metmast = metmast.fillna(method = \"ffill\")\n",
    "metmast = metmast.fillna(method = \"bfill\")\n",
    "metmast.isna().sum().sum()"
   ]
  },
  {
   "cell_type": "code",
   "execution_count": 15,
   "metadata": {},
   "outputs": [],
   "source": [
    "failures = pd.concat([failures_2016, failures_2017])"
   ]
  },
  {
   "cell_type": "code",
   "execution_count": 16,
   "metadata": {},
   "outputs": [
    {
     "name": "stderr",
     "output_type": "stream",
     "text": [
      "C:\\Users\\valentin grimm\\AppData\\Local\\Temp\\3\\ipykernel_17864\\1294777281.py:3: FutureWarning: DataFrame.fillna with 'method' is deprecated and will raise in a future version. Use obj.ffill() or obj.bfill() instead.\n",
      "  df = df.fillna(method = \"ffill\")\n",
      "C:\\Users\\valentin grimm\\AppData\\Local\\Temp\\3\\ipykernel_17864\\1294777281.py:4: FutureWarning: DataFrame.fillna with 'method' is deprecated and will raise in a future version. Use obj.ffill() or obj.bfill() instead.\n",
      "  df = df.fillna(method = \"bfill\")\n",
      "C:\\Users\\valentin grimm\\AppData\\Local\\Temp\\3\\ipykernel_17864\\1294777281.py:6: FutureWarning: DataFrame.fillna with 'method' is deprecated and will raise in a future version. Use obj.ffill() or obj.bfill() instead.\n",
      "  df = df.fillna(method = \"ffill\")\n",
      "C:\\Users\\valentin grimm\\AppData\\Local\\Temp\\3\\ipykernel_17864\\1294777281.py:7: FutureWarning: DataFrame.fillna with 'method' is deprecated and will raise in a future version. Use obj.ffill() or obj.bfill() instead.\n",
      "  df = df.fillna(method = \"bfill\")\n",
      "C:\\Users\\valentin grimm\\AppData\\Local\\Temp\\3\\ipykernel_17864\\1294777281.py:3: FutureWarning: DataFrame.fillna with 'method' is deprecated and will raise in a future version. Use obj.ffill() or obj.bfill() instead.\n",
      "  df = df.fillna(method = \"ffill\")\n",
      "C:\\Users\\valentin grimm\\AppData\\Local\\Temp\\3\\ipykernel_17864\\1294777281.py:4: FutureWarning: DataFrame.fillna with 'method' is deprecated and will raise in a future version. Use obj.ffill() or obj.bfill() instead.\n",
      "  df = df.fillna(method = \"bfill\")\n",
      "C:\\Users\\valentin grimm\\AppData\\Local\\Temp\\3\\ipykernel_17864\\1294777281.py:6: FutureWarning: DataFrame.fillna with 'method' is deprecated and will raise in a future version. Use obj.ffill() or obj.bfill() instead.\n",
      "  df = df.fillna(method = \"ffill\")\n",
      "C:\\Users\\valentin grimm\\AppData\\Local\\Temp\\3\\ipykernel_17864\\1294777281.py:7: FutureWarning: DataFrame.fillna with 'method' is deprecated and will raise in a future version. Use obj.ffill() or obj.bfill() instead.\n",
      "  df = df.fillna(method = \"bfill\")\n",
      "C:\\Users\\valentin grimm\\AppData\\Local\\Temp\\3\\ipykernel_17864\\1294777281.py:3: FutureWarning: DataFrame.fillna with 'method' is deprecated and will raise in a future version. Use obj.ffill() or obj.bfill() instead.\n",
      "  df = df.fillna(method = \"ffill\")\n",
      "C:\\Users\\valentin grimm\\AppData\\Local\\Temp\\3\\ipykernel_17864\\1294777281.py:4: FutureWarning: DataFrame.fillna with 'method' is deprecated and will raise in a future version. Use obj.ffill() or obj.bfill() instead.\n",
      "  df = df.fillna(method = \"bfill\")\n",
      "C:\\Users\\valentin grimm\\AppData\\Local\\Temp\\3\\ipykernel_17864\\1294777281.py:6: FutureWarning: DataFrame.fillna with 'method' is deprecated and will raise in a future version. Use obj.ffill() or obj.bfill() instead.\n",
      "  df = df.fillna(method = \"ffill\")\n",
      "C:\\Users\\valentin grimm\\AppData\\Local\\Temp\\3\\ipykernel_17864\\1294777281.py:7: FutureWarning: DataFrame.fillna with 'method' is deprecated and will raise in a future version. Use obj.ffill() or obj.bfill() instead.\n",
      "  df = df.fillna(method = \"bfill\")\n",
      "C:\\Users\\valentin grimm\\AppData\\Local\\Temp\\3\\ipykernel_17864\\1294777281.py:3: FutureWarning: DataFrame.fillna with 'method' is deprecated and will raise in a future version. Use obj.ffill() or obj.bfill() instead.\n",
      "  df = df.fillna(method = \"ffill\")\n",
      "C:\\Users\\valentin grimm\\AppData\\Local\\Temp\\3\\ipykernel_17864\\1294777281.py:4: FutureWarning: DataFrame.fillna with 'method' is deprecated and will raise in a future version. Use obj.ffill() or obj.bfill() instead.\n",
      "  df = df.fillna(method = \"bfill\")\n",
      "C:\\Users\\valentin grimm\\AppData\\Local\\Temp\\3\\ipykernel_17864\\1294777281.py:6: FutureWarning: DataFrame.fillna with 'method' is deprecated and will raise in a future version. Use obj.ffill() or obj.bfill() instead.\n",
      "  df = df.fillna(method = \"ffill\")\n",
      "C:\\Users\\valentin grimm\\AppData\\Local\\Temp\\3\\ipykernel_17864\\1294777281.py:7: FutureWarning: DataFrame.fillna with 'method' is deprecated and will raise in a future version. Use obj.ffill() or obj.bfill() instead.\n",
      "  df = df.fillna(method = \"bfill\")\n"
     ]
    }
   ],
   "source": [
    "#Mergen\n",
    "def JoinMetamast(df:pd.DataFrame):\n",
    "    df = df.fillna(method = \"ffill\")\n",
    "    df = df.fillna(method = \"bfill\")\n",
    "    df = pd.merge(df, metmast, on=\"Timestamp\", how=\"left\")\n",
    "    df = df.fillna(method = \"ffill\")\n",
    "    df = df.fillna(method = \"bfill\")\n",
    "    df.isna().sum().sum()\n",
    "    return df\n",
    "\n",
    "merged = list()\n",
    "for turbine_df in turbine_dfs:\n",
    "    merged.append(JoinMetamast(turbine_df))\n",
    "merged_df = pd.concat(merged)"
   ]
  },
  {
   "cell_type": "code",
   "execution_count": 17,
   "metadata": {},
   "outputs": [],
   "source": [
    "failures_gearbox = failures[failures[\"Component\"] == \"GEARBOX\"]\n",
    "failures_gearbox.reset_index(drop=True, inplace=True)"
   ]
  },
  {
   "cell_type": "code",
   "execution_count": 18,
   "metadata": {},
   "outputs": [],
   "source": [
    "#Util Functions\n",
    "def get_round_minute_diff(datetime_in: datetime) -> timedelta:\n",
    "    min = datetime_in.minute\n",
    "    rounded_min = round(min, -1)\n",
    "    diff = rounded_min - min\n",
    "    return timedelta(minutes=diff)\n",
    "\n",
    "def convert_round_minute_to_time(datetime_in: datetime) -> datetime:\n",
    "    td = get_round_minute_diff(datetime_in)\n",
    "    return datetime_in + td"
   ]
  },
  {
   "cell_type": "code",
   "execution_count": 19,
   "metadata": {},
   "outputs": [],
   "source": [
    "days_lookback = 90\n",
    "mins_per_class = 24 * 60 / 10\n",
    "ten_mins_of_n_days = int(24 * 60 * days_lookback / 10) \n",
    "target_name = \"Class\"\n",
    "\n",
    "def GetClass(i:int)->int:\n",
    "    return math.floor(i/mins_per_class)\n",
    "\n",
    "def create_failure_list() -> pd.DataFrame:\n",
    "    failure_list = []\n",
    "    for i, failure in enumerate(failures_gearbox):\n",
    "        turbine_id = str(failures_gearbox[\"Turbine_ID\"][i])\n",
    "        failure_ts = str(failures_gearbox[\"Timestamp\"][i])\n",
    "        failure_datetime = datetime.fromisoformat(failure_ts)\n",
    "        rounded_datetime = convert_round_minute_to_time(failure_datetime)\n",
    "        for j in range(ten_mins_of_n_days):\n",
    "            delta = timedelta(minutes=j*10)\n",
    "            new_datetime = rounded_datetime - delta\n",
    "            datetime_formated = new_datetime.replace(tzinfo=timezone.utc)\n",
    "            failure_list.append([turbine_id, datetime_formated.isoformat(), GetClass(j)])    \n",
    "    failure_df = pd.DataFrame(failure_list, columns=[\"Turbine_ID\", \"Timestamp\", target_name])\n",
    "    return failure_df\n",
    "\n",
    "failure_df_class  = create_failure_list()\n",
    "#Der Feature-Datensatz wird mit den Labels zusammengeführt. Dabei ist besonders wichtig, dass der Bezug zu der jeweiligen Turbine bestehen bleibt.\n",
    "labeled_df = pd.merge(merged_df, failure_df_class, on=[\"Turbine_ID\", \"Timestamp\"], how=\"left\");\n",
    "labeled_df = labeled_df.reset_index(drop=True)"
   ]
  },
  {
   "cell_type": "code",
   "execution_count": 20,
   "metadata": {},
   "outputs": [],
   "source": [
    "def create_failure_list(classes: list[str], days_per_class: int, target_name: str) -> pd.DataFrame:\n",
    "    days_lookback = len(classes) * days_per_class\n",
    "    ten_mins_of_n_days = int(24 * 60 * days_lookback / 10)\n",
    "    failure_list = []\n",
    "    for i, failure in enumerate(failures_gearbox):\n",
    "        turbine_id = str(failures_gearbox[\"Turbine_ID\"][i])\n",
    "        failure_ts = str(failures_gearbox[\"Timestamp\"][i])\n",
    "        failure_datetime = datetime.fromisoformat(failure_ts)\n",
    "        rounded_datetime = convert_round_minute_to_time(failure_datetime)\n",
    "        for iterator, current_class in enumerate(classes):\n",
    "            for j in range(ten_mins_of_n_days):\n",
    "                delta = timedelta(minutes=j*10)\n",
    "                # Prüfen ob obere und untere Schranke passen.\n",
    "                is_in_class = delta >= timedelta(days=iterator*days_per_class) and delta < timedelta(days=(iterator+1) * days_per_class)\n",
    "                if (is_in_class):\n",
    "                    new_datetime = rounded_datetime - delta\n",
    "                    datetime_formated = new_datetime.replace(tzinfo=timezone.utc)\n",
    "                    failure_list.append([turbine_id, datetime_formated.isoformat(), current_class])\n",
    "    \n",
    "    failure_df = pd.DataFrame(failure_list, columns=[\"Turbine_ID\", \"Timestamp\", target_name])\n",
    "\n",
    "    return failure_df\n",
    "\n",
    "class_target_name = \"Risk Level\"\n",
    "risk_levels = [\"low\", \"high\", \"med-high\", \"medium\", \"low-med\"]\n",
    "days_per_class = 18\n",
    "\n",
    "failure_df_multiclass = create_failure_list(classes=risk_levels, days_per_class=days_per_class, target_name=class_target_name)\n",
    "labeled_df = pd.merge(labeled_df, failure_df_multiclass, on=[\"Turbine_ID\", \"Timestamp\"], how=\"left\"); \n",
    "labeled_df = labeled_df.reset_index(drop=True)"
   ]
  },
  {
   "cell_type": "code",
   "execution_count": 21,
   "metadata": {},
   "outputs": [],
   "source": [
    "labeled_df[class_target_name].fillna(\"low\", inplace = True)\n",
    "labeled_df[target_name].fillna(90, inplace = True)"
   ]
  },
  {
   "cell_type": "code",
   "execution_count": 22,
   "metadata": {},
   "outputs": [
    {
     "data": {
      "text/plain": [
       "Class\n",
       "90.0    391261\n",
       "22.0       288\n",
       "24.0       288\n",
       "25.0       288\n",
       "26.0       288\n",
       "         ...  \n",
       "49.0       285\n",
       "45.0       285\n",
       "60.0       284\n",
       "59.0       281\n",
       "58.0       269\n",
       "Name: count, Length: 91, dtype: int64"
      ]
     },
     "execution_count": 22,
     "metadata": {},
     "output_type": "execute_result"
    }
   ],
   "source": [
    "labeled_df[target_name].value_counts()"
   ]
  },
  {
   "cell_type": "code",
   "execution_count": 23,
   "metadata": {},
   "outputs": [],
   "source": [
    "# Alle Daten ab August 2017 liegen im Testset\n",
    "split_criterion_reg = labeled_df[\"Timestamp\"] >= \"2017-08-00T00:00:00+00:00\"\n",
    "\n",
    "test_gearbox = labeled_df[split_criterion_reg].reset_index(drop=True)#.iloc[:100].reset_index(drop=True)\n",
    "train_gearbox = labeled_df[~split_criterion_reg].reset_index(drop=True)#.iloc[:100].reset_index(drop=True)"
   ]
  },
  {
   "cell_type": "code",
   "execution_count": 26,
   "metadata": {},
   "outputs": [
    {
     "data": {
      "text/plain": [
       "<Mapper at 0x288abb64260; Train_data_meta>"
      ]
     },
     "execution_count": 26,
     "metadata": {},
     "output_type": "execute_result"
    }
   ],
   "source": [
    "engine = get_engine()\n",
    "mapper_registry = registry()\n",
    "\n",
    "label_columns = list([\"Class\", \"Risk Level\"])\n",
    "feature_columns = list(train_gearbox.columns)\n",
    "feature_columns = [x for x in feature_columns if x not in label_columns]\n",
    "meta_columns = list(train_gearbox.select_dtypes(include=['object']).columns)\n",
    "meta_columns = [x for x in meta_columns if x not in label_columns]\n",
    "feature_columns = [x for x in feature_columns if x not in meta_columns]\n",
    "\n",
    "# Define a class to map to the table\n",
    "class Train_data:\n",
    "    pass\n",
    "\n",
    "# Create columns\n",
    "feature_column_types = [Float] * len(feature_columns)\n",
    "f_columns = [Column('id', Integer, primary_key=True, autoincrement=True)] + [\n",
    "    Column(name, type) for name, type in zip(feature_columns, feature_column_types)\n",
    "]\n",
    "\n",
    "# Create table\n",
    "metadata = MetaData()\n",
    "train_data_table = Table('train_data', metadata, *f_columns)\n",
    "metadata.create_all(engine)\n",
    "\n",
    "# Map the class imperatively\n",
    "mapper_registry.map_imperatively(\n",
    "    class_ = Train_data,\n",
    "    local_table = train_data_table\n",
    ")\n",
    "\n",
    "# Define a class to map to the table\n",
    "class Train_data_label:\n",
    "    pass\n",
    "\n",
    "# Create columns\n",
    "label_column_types = list([Integer, String])\n",
    "l_columns = [Column('id', Integer, primary_key=True, autoincrement=True), \n",
    "             Column(\"train_data_id\", Integer, ForeignKey(Train_data.id))] + [\n",
    "    Column(name, type) for name, type in zip(label_columns, label_column_types)    \n",
    "]\n",
    "\n",
    "# Create table\n",
    "metadata = MetaData()\n",
    "train_data_label_table = Table('train_data_label', metadata, *l_columns)\n",
    "metadata.create_all(engine)\n",
    "\n",
    "# Map the class imperatively\n",
    "mapper_registry.map_imperatively(\n",
    "    class_ = Train_data_label,\n",
    "    local_table = train_data_label_table\n",
    ")\n",
    "\n",
    "# Define a class to map to the table\n",
    "class Train_data_meta:\n",
    "    pass\n",
    "\n",
    "# Create columns\n",
    "meta_column_types = [String] * len(meta_columns)\n",
    "m_columns = [Column('id', Integer, primary_key=True, autoincrement=True), \n",
    "             Column(\"train_data_id\", Integer, ForeignKey(Train_data.id))] + [\n",
    "    Column(name, type) for name, type in zip(meta_columns, meta_column_types)    \n",
    "]\n",
    "\n",
    "# Create table\n",
    "metadata = MetaData()\n",
    "train_data_meta_table = Table('train_data_meta', metadata, *m_columns)\n",
    "metadata.create_all(engine)\n",
    "\n",
    "# Map the class imperatively\n",
    "mapper_registry.map_imperatively(\n",
    "    class_ = Train_data_meta,\n",
    "    local_table = train_data_meta_table\n",
    ")"
   ]
  },
  {
   "cell_type": "code",
   "execution_count": 27,
   "metadata": {},
   "outputs": [
    {
     "data": {
      "text/plain": [
       "<Mapper at 0x288ac640d10; test_data_meta>"
      ]
     },
     "execution_count": 27,
     "metadata": {},
     "output_type": "execute_result"
    }
   ],
   "source": [
    "engine = get_engine()\n",
    "mapper_registry = registry()\n",
    "\n",
    "label_columns = list([\"Class\", \"Risk Level\"])\n",
    "feature_columns = list(test_gearbox.columns)\n",
    "feature_columns = [x for x in feature_columns if x not in label_columns]\n",
    "meta_columns = list(test_gearbox.select_dtypes(include=['object']).columns)\n",
    "meta_columns = [x for x in meta_columns if x not in label_columns]\n",
    "feature_columns = [x for x in feature_columns if x not in meta_columns]\n",
    "\n",
    "# Define a class to map to the table\n",
    "class test_data:\n",
    "    pass\n",
    "\n",
    "# Create columns\n",
    "feature_column_types = [Float] * len(feature_columns)\n",
    "f_columns = [Column('id', Integer, primary_key=True, autoincrement=True)] + [\n",
    "    Column(name, type) for name, type in zip(feature_columns, feature_column_types)\n",
    "]\n",
    "\n",
    "# Create table\n",
    "metadata = MetaData()\n",
    "test_data_table = Table('test_data', metadata, *f_columns)\n",
    "metadata.create_all(engine)\n",
    "\n",
    "# Map the class imperatively\n",
    "mapper_registry.map_imperatively(\n",
    "    class_ = test_data,\n",
    "    local_table = test_data_table\n",
    ")\n",
    "\n",
    "# Define a class to map to the table\n",
    "class test_data_label:\n",
    "    pass\n",
    "\n",
    "# Create columns\n",
    "label_column_types = list([Integer, String])\n",
    "l_columns = [Column('id', Integer, primary_key=True, autoincrement=True), \n",
    "             Column(\"test_data_id\", Integer, ForeignKey(test_data.id))] + [\n",
    "    Column(name, type) for name, type in zip(label_columns, label_column_types)    \n",
    "]\n",
    "\n",
    "# Create table\n",
    "metadata = MetaData()\n",
    "test_data_label_table = Table('test_data_label', metadata, *l_columns)\n",
    "metadata.create_all(engine)\n",
    "\n",
    "# Map the class imperatively\n",
    "mapper_registry.map_imperatively(\n",
    "    class_ = test_data_label,\n",
    "    local_table = test_data_label_table\n",
    ")\n",
    "\n",
    "# Define a class to map to the table\n",
    "class test_data_meta:\n",
    "    pass\n",
    "\n",
    "# Create columns\n",
    "meta_column_types = [String] * len(meta_columns)\n",
    "m_columns = [Column('id', Integer, primary_key=True, autoincrement=True), \n",
    "             Column(\"test_data_id\", Integer, ForeignKey(test_data.id))] + [\n",
    "    Column(name, type) for name, type in zip(meta_columns, meta_column_types)    \n",
    "]\n",
    "\n",
    "# Create table\n",
    "metadata = MetaData()\n",
    "test_data_meta_table = Table('test_data_meta', metadata, *m_columns)\n",
    "metadata.create_all(engine)\n",
    "\n",
    "# Map the class imperatively\n",
    "mapper_registry.map_imperatively(\n",
    "    class_ = test_data_meta,\n",
    "    local_table = test_data_meta_table\n",
    ")"
   ]
  },
  {
   "cell_type": "code",
   "execution_count": 28,
   "metadata": {},
   "outputs": [
    {
     "name": "stdout",
     "output_type": "stream",
     "text": [
      "0\n"
     ]
    }
   ],
   "source": [
    "session = Session(bind=engine)\n",
    "print(session.query(Train_data).count())"
   ]
  },
  {
   "cell_type": "code",
   "execution_count": 29,
   "metadata": {},
   "outputs": [],
   "source": [
    "#Start Session\n",
    "session = Session(bind=engine)\n",
    "#Create objects to insert\n",
    "train_data_list, train_data_label_list, train_data_meta_list, test_data_list, test_data_label_list, test_data_meta_list = list(),list(),list(),list(),list(),list()\n",
    "\n",
    "train_count = session.query(Train_data).count()\n",
    "for index, row in train_gearbox.iterrows():    \n",
    "    train_data_piece = Train_data()\n",
    "    train_data_label_piece = Train_data_label()\n",
    "    train_data_meta_piece = Train_data_meta()\n",
    "    \n",
    "    train_data_label_piece.train_data_id = 0 + index + 1\n",
    "    train_data_meta_piece.train_data_id = 0 + index + 1\n",
    "    \n",
    "    for column in train_gearbox.columns:\n",
    "        if(column in label_columns):\n",
    "            setattr(train_data_label_piece, column, row[column])\n",
    "        elif(column in meta_columns):\n",
    "            setattr(train_data_meta_piece, column, row[column])\n",
    "        else:\n",
    "            setattr(train_data_piece, column, row[column])          \n",
    "    \n",
    "    train_data_list.append(train_data_piece)    \n",
    "    train_data_label_list.append(train_data_label_piece)     \n",
    "    train_data_meta_list.append(train_data_meta_piece) \n",
    "        \n",
    "test_count = session.query(Train_data).count()\n",
    "for index, row in test_gearbox.iterrows():    \n",
    "    test_data_piece = test_data()\n",
    "    test_data_label_piece = test_data_label()\n",
    "    test_data_meta_piece = test_data_meta()\n",
    "    \n",
    "    test_data_label_piece.test_data_id = 0 + index + 1\n",
    "    test_data_meta_piece.test_data_id = 0 + index + 1\n",
    "    \n",
    "    for column in test_gearbox.columns:\n",
    "        if(column in label_columns):\n",
    "            setattr(test_data_label_piece, column, row[column])\n",
    "        elif(column in meta_columns):\n",
    "            setattr(test_data_meta_piece, column, row[column])\n",
    "        else:\n",
    "            setattr(test_data_piece, column, row[column])\n",
    "    \n",
    "    \n",
    "    test_data_list.append(test_data_piece)     \n",
    "    test_data_label_list.append(test_data_label_piece)     \n",
    "    test_data_meta_list.append(test_data_meta_piece) "
   ]
  },
  {
   "cell_type": "code",
   "execution_count": 30,
   "metadata": {},
   "outputs": [],
   "source": [
    "#Commit Objects\n",
    "session.add_all(train_data_list)\n",
    "session.add_all(train_data_label_list)\n",
    "session.add_all(train_data_meta_list)\n",
    "session.add_all(test_data_list)\n",
    "session.add_all(test_data_label_list)\n",
    "session.add_all(test_data_meta_list)\n",
    "session.commit()"
   ]
  },
  {
   "cell_type": "code",
   "execution_count": null,
   "metadata": {},
   "outputs": [],
   "source": []
  }
 ],
 "metadata": {
  "kernelspec": {
   "display_name": "base",
   "language": "python",
   "name": "python3"
  },
  "language_info": {
   "codemirror_mode": {
    "name": "ipython",
    "version": 3
   },
   "file_extension": ".py",
   "mimetype": "text/x-python",
   "name": "python",
   "nbconvert_exporter": "python",
   "pygments_lexer": "ipython3",
   "version": "3.12.0"
  },
  "orig_nbformat": 4,
  "vscode": {
   "interpreter": {
    "hash": "a561ff09736c45ea8c4c6a2f2879bc77e5e64e20329dfa0346a65d0599b7f690"
   }
  }
 },
 "nbformat": 4,
 "nbformat_minor": 2
}
